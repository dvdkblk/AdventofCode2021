{
 "cells": [
  {
   "cell_type": "code",
   "execution_count": 165,
   "id": "10656d86",
   "metadata": {},
   "outputs": [],
   "source": [
    "import pandas as pd\n",
    "import numpy as np"
   ]
  },
  {
   "cell_type": "markdown",
   "id": "eae930e5",
   "metadata": {},
   "source": [
    "# Import data"
   ]
  },
  {
   "cell_type": "code",
   "execution_count": 166,
   "id": "f4aada2a",
   "metadata": {},
   "outputs": [],
   "source": [
    "with open('input.txt') as f:\n",
    "    lines = f.readlines()"
   ]
  },
  {
   "cell_type": "code",
   "execution_count": 167,
   "id": "6a9e4d28",
   "metadata": {},
   "outputs": [],
   "source": [
    "lines = [i.strip() for i in lines]"
   ]
  },
  {
   "cell_type": "code",
   "execution_count": 168,
   "id": "3e505383",
   "metadata": {},
   "outputs": [],
   "source": [
    "draw = lines[0]"
   ]
  },
  {
   "cell_type": "code",
   "execution_count": 169,
   "id": "3f8ebaaa",
   "metadata": {},
   "outputs": [],
   "source": [
    "draw = draw.split(\",\")"
   ]
  },
  {
   "cell_type": "code",
   "execution_count": 170,
   "id": "86173736",
   "metadata": {},
   "outputs": [],
   "source": [
    "draw = [int(i) for i in draw]"
   ]
  },
  {
   "cell_type": "code",
   "execution_count": 171,
   "id": "a6277668",
   "metadata": {},
   "outputs": [],
   "source": [
    "boards = []\n",
    "row = 0\n",
    "board = []\n",
    "for i in lines[2:]:\n",
    "    if len(i) == 0:\n",
    "        continue\n",
    "    if row <  4:\n",
    "        board.append(i.split())\n",
    "        row += 1\n",
    "    else:\n",
    "        board.append(i.split())\n",
    "        board = np.array(board, dtype = \"int\")\n",
    "        boards.append(board)\n",
    "        board = []\n",
    "        row = 0"
   ]
  },
  {
   "cell_type": "markdown",
   "id": "3eb875cc",
   "metadata": {},
   "source": [
    "# Function"
   ]
  },
  {
   "cell_type": "code",
   "execution_count": 176,
   "id": "3eb1b1a5",
   "metadata": {},
   "outputs": [],
   "source": [
    "def find_match(draw, board):\n",
    "    if np.where(board== draw)[1].size > 0:\n",
    "        #replace match with -1\n",
    "        board[np.where(board == draw)] = -1"
   ]
  },
  {
   "cell_type": "code",
   "execution_count": 177,
   "id": "cdd0d7da",
   "metadata": {},
   "outputs": [],
   "source": [
    "def find_bingo(board):\n",
    "    #check rows\n",
    "    for i in board:\n",
    "        if all(i == -1):\n",
    "            #print(\"Bingo\", board)\n",
    "            return(True)\n",
    "    #check cols\n",
    "    for i in board.T:\n",
    "        if all(i == -1):\n",
    "            #print(\"Bingo\", board)\n",
    "            return(True)"
   ]
  },
  {
   "cell_type": "code",
   "execution_count": 178,
   "id": "3b2f327b",
   "metadata": {},
   "outputs": [],
   "source": [
    "def play_bingo(draw, boards):\n",
    "    bingo_found = False\n",
    "    for inp in draw:\n",
    "        #apply over boards \n",
    "        for b in boards:\n",
    "            find_match(inp, b)\n",
    "            if find_bingo(b):\n",
    "                bingo_found = True\n",
    "                #sum of all unmarked \n",
    "                s = sum(b[np.where(b > -1)])\n",
    "                # multiplied by last number\n",
    "                print(s*inp)\n",
    "        if bingo_found:\n",
    "            break"
   ]
  },
  {
   "cell_type": "markdown",
   "id": "f091065e",
   "metadata": {},
   "source": [
    "# Part 2"
   ]
  },
  {
   "cell_type": "code",
   "execution_count": 179,
   "id": "7331aa5d",
   "metadata": {},
   "outputs": [],
   "source": [
    "def play_bingo2(draw_list, board_list):\n",
    "    round_count = []\n",
    "    #apply over boards \n",
    "    for b,i in zip(board_list,enumerate(board_list)):\n",
    "        #run drawn numbers until bingo\n",
    "        for inp in draw_list:\n",
    "            find_match(inp, b)\n",
    "            if find_bingo(b):\n",
    "                #save the number of numbers it took to get to bingo\n",
    "                round_count.append(draw_list.index(inp))\n",
    "                break\n",
    "    #last board \n",
    "    last_board = board_list[round_count.index(max(round_count))]\n",
    "    #sum of unmarked\n",
    "    s = sum(last_board[np.where(last_board > -1)])\n",
    "    #last number\n",
    "    last_num = draw_list[max(round_count)]\n",
    "    print(last_num * s)"
   ]
  },
  {
   "cell_type": "markdown",
   "id": "dbcfef42",
   "metadata": {},
   "source": [
    "Load boards again."
   ]
  },
  {
   "cell_type": "code",
   "execution_count": 180,
   "id": "d94670ab",
   "metadata": {},
   "outputs": [],
   "source": [
    "boards = []\n",
    "row = 0\n",
    "board = []\n",
    "for i in lines[2:]:\n",
    "    if len(i) == 0:\n",
    "        continue\n",
    "    if row <  4:\n",
    "        board.append(i.split())\n",
    "        row += 1\n",
    "    else:\n",
    "        board.append(i.split())\n",
    "        board = np.array(board, dtype = \"int\")\n",
    "        boards.append(board)\n",
    "        board = []\n",
    "        row = 0"
   ]
  },
  {
   "cell_type": "code",
   "execution_count": 181,
   "id": "c65a9e32",
   "metadata": {
    "scrolled": true
   },
   "outputs": [
    {
     "name": "stdout",
     "output_type": "stream",
     "text": [
      "16168\n"
     ]
    }
   ],
   "source": [
    "play_bingo2(draw, boards)"
   ]
  }
 ],
 "metadata": {
  "kernelspec": {
   "display_name": "Python 3 (ipykernel)",
   "language": "python",
   "name": "python3"
  },
  "language_info": {
   "codemirror_mode": {
    "name": "ipython",
    "version": 3
   },
   "file_extension": ".py",
   "mimetype": "text/x-python",
   "name": "python",
   "nbconvert_exporter": "python",
   "pygments_lexer": "ipython3",
   "version": "3.9.7"
  }
 },
 "nbformat": 4,
 "nbformat_minor": 5
}
