{
 "cells": [
  {
   "cell_type": "code",
   "execution_count": 10,
   "id": "06bffe32",
   "metadata": {},
   "outputs": [],
   "source": [
    "import pandas as pd"
   ]
  },
  {
   "cell_type": "code",
   "execution_count": 24,
   "id": "91442e3a",
   "metadata": {},
   "outputs": [],
   "source": [
    "with open('InputDay2.txt') as f:\n",
    "    lines = f.readlines()"
   ]
  },
  {
   "cell_type": "markdown",
   "id": "1418dd14",
   "metadata": {},
   "source": [
    "# Part 1"
   ]
  },
  {
   "cell_type": "code",
   "execution_count": 28,
   "id": "4de5dd37",
   "metadata": {},
   "outputs": [],
   "source": [
    "\n",
    "for idx, l in enumerate(lines): \n",
    "    lines[idx] = l.replace(\"\\n\", \"\").split()"
   ]
  },
  {
   "cell_type": "code",
   "execution_count": 45,
   "id": "6c8bab23",
   "metadata": {},
   "outputs": [],
   "source": [
    "df = pd.DataFrame(lines, columns = [\"direction\", \"num\"])"
   ]
  },
  {
   "cell_type": "code",
   "execution_count": 52,
   "id": "4d7ecf09",
   "metadata": {},
   "outputs": [],
   "source": [
    "df = df.astype({\"num\":\"int\"})"
   ]
  },
  {
   "cell_type": "code",
   "execution_count": 60,
   "id": "4cd7dd7c",
   "metadata": {},
   "outputs": [
    {
     "data": {
      "text/plain": [
       "1604850"
      ]
     },
     "execution_count": 60,
     "metadata": {},
     "output_type": "execute_result"
    }
   ],
   "source": [
    "sum(df.num[df.direction == \"forward\"]) * (sum(df.num[df.direction == \"down\"])-sum(df.num[df.direction == \"up\"]))"
   ]
  },
  {
   "cell_type": "markdown",
   "id": "d248659c",
   "metadata": {},
   "source": [
    "# Part 2"
   ]
  },
  {
   "cell_type": "code",
   "execution_count": 99,
   "id": "63070590",
   "metadata": {},
   "outputs": [],
   "source": [
    "position = pd.DataFrame({\"x\": [0,0], \"depth\": [0,0], \"aim\":[0,0]})"
   ]
  },
  {
   "cell_type": "code",
   "execution_count": 175,
   "id": "25eb6c16",
   "metadata": {
    "scrolled": false
   },
   "outputs": [],
   "source": [
    "x = [0]\n",
    "depth = [0]\n",
    "aim = [0]\n",
    "for d,n,idx in zip(df[\"direction\"], df[\"num\"], range(len(lines))):\n",
    "    if d == \"down\":\n",
    "        aim.extend([aim[idx]+n])\n",
    "        x.extend([x[idx]])\n",
    "        depth.extend([depth[idx]])\n",
    "    if d == \"up\": \n",
    "        aim.extend([aim[idx]-n])\n",
    "        x.extend([x[idx]])\n",
    "        depth.extend([depth[idx]])\n",
    "    if d == \"forward\":\n",
    "        x.extend([x[idx]+n])\n",
    "        depth.extend([depth[idx] + (n*aim[idx])])\n",
    "        aim.extend([aim[idx]])\n"
   ]
  },
  {
   "cell_type": "code",
   "execution_count": 183,
   "id": "a73a824d",
   "metadata": {
    "scrolled": true
   },
   "outputs": [
    {
     "data": {
      "text/plain": [
       "1685186100"
      ]
     },
     "execution_count": 183,
     "metadata": {},
     "output_type": "execute_result"
    }
   ],
   "source": [
    "864198*1950"
   ]
  },
  {
   "cell_type": "code",
   "execution_count": 182,
   "id": "7ce871d4",
   "metadata": {},
   "outputs": [
    {
     "data": {
      "text/plain": [
       "1950"
      ]
     },
     "execution_count": 182,
     "metadata": {},
     "output_type": "execute_result"
    }
   ],
   "source": [
    "x[len(x)-1]"
   ]
  }
 ],
 "metadata": {
  "kernelspec": {
   "display_name": "Python 3 (ipykernel)",
   "language": "python",
   "name": "python3"
  },
  "language_info": {
   "codemirror_mode": {
    "name": "ipython",
    "version": 3
   },
   "file_extension": ".py",
   "mimetype": "text/x-python",
   "name": "python",
   "nbconvert_exporter": "python",
   "pygments_lexer": "ipython3",
   "version": "3.9.7"
  }
 },
 "nbformat": 4,
 "nbformat_minor": 5
}
