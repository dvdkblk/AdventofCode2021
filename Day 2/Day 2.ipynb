{
 "cells": [
  {
   "cell_type": "code",
   "execution_count": 10,
   "id": "f0e47332",
   "metadata": {},
   "outputs": [],
   "source": [
    "import pandas as pd"
   ]
  },
  {
   "cell_type": "code",
   "execution_count": 24,
   "id": "8ea8f7e5",
   "metadata": {},
   "outputs": [],
   "source": [
    "with open('InputDay2.txt') as f:\n",
    "    lines = f.readlines()"
   ]
  },
  {
   "cell_type": "markdown",
   "id": "f0a5210e",
   "metadata": {},
   "source": [
    "# Part 1"
   ]
  },
  {
   "cell_type": "code",
   "execution_count": 28,
   "id": "759f4d90",
   "metadata": {},
   "outputs": [],
   "source": [
    "\n",
    "for idx, l in enumerate(lines): \n",
    "    lines[idx] = l.replace(\"\\n\", \"\").split()"
   ]
  },
  {
   "cell_type": "code",
   "execution_count": 45,
   "id": "914e3d03",
   "metadata": {},
   "outputs": [],
   "source": [
    "df = pd.DataFrame(lines, columns = [\"direction\", \"num\"])"
   ]
  },
  {
   "cell_type": "code",
   "execution_count": 52,
   "id": "da2b7096",
   "metadata": {},
   "outputs": [],
   "source": [
    "df = df.astype({\"num\":\"int\"})"
   ]
  },
  {
   "cell_type": "code",
   "execution_count": 60,
   "id": "28702bcb",
   "metadata": {},
   "outputs": [
    {
     "data": {
      "text/plain": [
       "1604850"
      ]
     },
     "execution_count": 60,
     "metadata": {},
     "output_type": "execute_result"
    }
   ],
   "source": [
    "sum(df.num[df.direction == \"forward\"]) * (sum(df.num[df.direction == \"down\"])-sum(df.num[df.direction == \"up\"]))"
   ]
  },
  {
   "cell_type": "markdown",
   "id": "41b1e2de",
   "metadata": {},
   "source": [
    "# Part 2"
   ]
  },
  {
   "cell_type": "code",
   "execution_count": 99,
   "id": "c955602a",
   "metadata": {},
   "outputs": [],
   "source": [
    "position = pd.DataFrame({\"x\": [0,0], \"depth\": [0,0], \"aim\":[0,0]})"
   ]
  },
  {
   "cell_type": "code",
   "execution_count": 175,
   "id": "9024fbee",
   "metadata": {
    "scrolled": false
   },
   "outputs": [],
   "source": [
    "x = [0]\n",
    "depth = [0]\n",
    "aim = [0]\n",
    "for d,n,idx in zip(df[\"direction\"], df[\"num\"], range(len(lines))):\n",
    "    if d == \"down\":\n",
    "        aim.extend([aim[idx]+n])\n",
    "        x.extend([x[idx]])\n",
    "        depth.extend([depth[idx]])\n",
    "    if d == \"up\": \n",
    "        aim.extend([aim[idx]-n])\n",
    "        x.extend([x[idx]])\n",
    "        depth.extend([depth[idx]])\n",
    "    if d == \"forward\":\n",
    "        x.extend([x[idx]+n])\n",
    "        depth.extend([depth[idx] + (n*aim[idx])])\n",
    "        aim.extend([aim[idx]])\n"
   ]
  },
  {
   "cell_type": "code",
   "execution_count": 184,
   "id": "b35ae8ff",
   "metadata": {},
   "outputs": [
    {
     "data": {
      "text/plain": [
       "864198"
      ]
     },
     "execution_count": 184,
     "metadata": {},
     "output_type": "execute_result"
    }
   ],
   "source": [
    "depth[-1]"
   ]
  },
  {
   "cell_type": "code",
   "execution_count": 182,
   "id": "75942b07",
   "metadata": {
    "scrolled": true
   },
   "outputs": [
    {
     "data": {
      "text/plain": [
       "1950"
      ]
     },
     "execution_count": 182,
     "metadata": {},
     "output_type": "execute_result"
    }
   ],
   "source": [
    "x[len(x)-1]"
   ]
  },
  {
   "cell_type": "code",
   "execution_count": 183,
   "id": "d7b2f950",
   "metadata": {
    "scrolled": true
   },
   "outputs": [
    {
     "data": {
      "text/plain": [
       "1685186100"
      ]
     },
     "execution_count": 183,
     "metadata": {},
     "output_type": "execute_result"
    }
   ],
   "source": [
    "864198*1950"
   ]
  }
 ],
 "metadata": {
  "kernelspec": {
   "display_name": "Python 3 (ipykernel)",
   "language": "python",
   "name": "python3"
  },
  "language_info": {
   "codemirror_mode": {
    "name": "ipython",
    "version": 3
   },
   "file_extension": ".py",
   "mimetype": "text/x-python",
   "name": "python",
   "nbconvert_exporter": "python",
   "pygments_lexer": "ipython3",
   "version": "3.9.7"
  }
 },
 "nbformat": 4,
 "nbformat_minor": 5
}
